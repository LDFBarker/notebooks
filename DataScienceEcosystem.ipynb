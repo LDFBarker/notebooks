{
 "cells": [
  {
   "cell_type": "markdown",
   "id": "7444eb4b",
   "metadata": {},
   "source": [
    "# Data Science Tools and Ecosystems"
   ]
  },
  {
   "cell_type": "markdown",
   "id": "543a52ed",
   "metadata": {},
   "source": [
    "## Author \n",
    "David Barker"
   ]
  },
  {
   "cell_type": "markdown",
   "id": "7cec70a9",
   "metadata": {},
   "source": [
    "In this notebook, data science tools and ecosystems will be summarized."
   ]
  },
  {
   "cell_type": "markdown",
   "id": "7875c57b",
   "metadata": {},
   "source": [
    "**Objectives:**\n",
    "- List languages used by data scientists.\n",
    "- List libraries used by data scientists.\n",
    "- Evaluate arithmetic expressions in Python."
   ]
  },
  {
   "cell_type": "markdown",
   "id": "71cc97e3",
   "metadata": {},
   "source": [
    "Some of the more popular languages data scientists use are:\n",
    "1. Python\n",
    "2. R\n",
    "3. SQL\n",
    "4. Julia"
   ]
  },
  {
   "cell_type": "markdown",
   "id": "86bb06e5",
   "metadata": {},
   "source": [
    "Some of the popular libraries data scientists use are:\n",
    "1. Pandas\n",
    "2. NumPy\n",
    "3. Matplotlib"
   ]
  },
  {
   "cell_type": "markdown",
   "id": "329ab624",
   "metadata": {},
   "source": [
    "|Data Science Tools|\n",
    "|-----|\n",
    "|JupyterLab|\n",
    "|RStudio|\n",
    "|Anaconda|"
   ]
  },
  {
   "cell_type": "markdown",
   "id": "0e1c21ca",
   "metadata": {},
   "source": [
    "Below are some examples of evaluating arithmetic expressions using Python."
   ]
  },
  {
   "cell_type": "code",
   "execution_count": 2,
   "id": "03728156",
   "metadata": {},
   "outputs": [
    {
     "data": {
      "text/plain": [
       "17"
      ]
     },
     "execution_count": 2,
     "metadata": {},
     "output_type": "execute_result"
    }
   ],
   "source": [
    "# Adding and multiplying integers:\n",
    "(3*4) +5"
   ]
  },
  {
   "cell_type": "code",
   "execution_count": 3,
   "id": "5ee762cc",
   "metadata": {},
   "outputs": [
    {
     "data": {
      "text/plain": [
       "3.3333333333333335"
      ]
     },
     "execution_count": 3,
     "metadata": {},
     "output_type": "execute_result"
    }
   ],
   "source": [
    "#This will convert 200 minutes into hours by dividing by sixty\n",
    "200/60"
   ]
  },
  {
   "cell_type": "code",
   "execution_count": null,
   "id": "dffbb6ca",
   "metadata": {},
   "outputs": [],
   "source": []
  }
 ],
 "metadata": {
  "kernelspec": {
   "display_name": "Python 3 (ipykernel)",
   "language": "python",
   "name": "python3"
  },
  "language_info": {
   "codemirror_mode": {
    "name": "ipython",
    "version": 3
   },
   "file_extension": ".py",
   "mimetype": "text/x-python",
   "name": "python",
   "nbconvert_exporter": "python",
   "pygments_lexer": "ipython3",
   "version": "3.10.9"
  }
 },
 "nbformat": 4,
 "nbformat_minor": 5
}
